{
 "cells": [
  {
   "cell_type": "code",
   "execution_count": 4,
   "metadata": {},
   "outputs": [],
   "source": [
    "# import required libraries\n",
    "\n",
    "import seaborn as sns\n",
    "\n",
    "import numpy as np"
   ]
  },
  {
   "cell_type": "code",
   "execution_count": 5,
   "metadata": {},
   "outputs": [
    {
     "data": {
      "text/html": [
       "<div>\n",
       "<style scoped>\n",
       "    .dataframe tbody tr th:only-of-type {\n",
       "        vertical-align: middle;\n",
       "    }\n",
       "\n",
       "    .dataframe tbody tr th {\n",
       "        vertical-align: top;\n",
       "    }\n",
       "\n",
       "    .dataframe thead th {\n",
       "        text-align: right;\n",
       "    }\n",
       "</style>\n",
       "<table border=\"1\" class=\"dataframe\">\n",
       "  <thead>\n",
       "    <tr style=\"text-align: right;\">\n",
       "      <th></th>\n",
       "      <th>Unnamed: 0</th>\n",
       "      <th>id</th>\n",
       "      <th>comment</th>\n",
       "      <th>User  id</th>\n",
       "      <th>Photo id</th>\n",
       "      <th>created Timestamp</th>\n",
       "      <th>posted date</th>\n",
       "      <th>emoji used</th>\n",
       "      <th>Hashtags used count</th>\n",
       "    </tr>\n",
       "  </thead>\n",
       "  <tbody>\n",
       "    <tr>\n",
       "      <th>7483</th>\n",
       "      <td>7483</td>\n",
       "      <td>7484</td>\n",
       "      <td>accusamus vel est</td>\n",
       "      <td>82</td>\n",
       "      <td>257</td>\n",
       "      <td>13-04-2023 08:04</td>\n",
       "      <td>April 14</td>\n",
       "      <td>no</td>\n",
       "      <td>5</td>\n",
       "    </tr>\n",
       "    <tr>\n",
       "      <th>7484</th>\n",
       "      <td>7484</td>\n",
       "      <td>7485</td>\n",
       "      <td>sit nulla qui</td>\n",
       "      <td>91</td>\n",
       "      <td>257</td>\n",
       "      <td>13-04-2023 08:04</td>\n",
       "      <td>April 14</td>\n",
       "      <td>no</td>\n",
       "      <td>6</td>\n",
       "    </tr>\n",
       "    <tr>\n",
       "      <th>7485</th>\n",
       "      <td>7485</td>\n",
       "      <td>7486</td>\n",
       "      <td>sed quidem vitae</td>\n",
       "      <td>93</td>\n",
       "      <td>257</td>\n",
       "      <td>13-04-2023 08:04</td>\n",
       "      <td>April 14</td>\n",
       "      <td>yes</td>\n",
       "      <td>2</td>\n",
       "    </tr>\n",
       "    <tr>\n",
       "      <th>7486</th>\n",
       "      <td>7486</td>\n",
       "      <td>7487</td>\n",
       "      <td>dolorem eveniet rerum</td>\n",
       "      <td>95</td>\n",
       "      <td>257</td>\n",
       "      <td>13-04-2023 08:04</td>\n",
       "      <td>April 14</td>\n",
       "      <td>yes</td>\n",
       "      <td>1</td>\n",
       "    </tr>\n",
       "    <tr>\n",
       "      <th>7487</th>\n",
       "      <td>7487</td>\n",
       "      <td>7488</td>\n",
       "      <td>dolores nihil voluptas</td>\n",
       "      <td>96</td>\n",
       "      <td>257</td>\n",
       "      <td>13-04-2023 08:04</td>\n",
       "      <td>April 14</td>\n",
       "      <td>no</td>\n",
       "      <td>3</td>\n",
       "    </tr>\n",
       "  </tbody>\n",
       "</table>\n",
       "</div>"
      ],
      "text/plain": [
       "      Unnamed: 0    id                 comment  User  id  Photo id  \\\n",
       "7483        7483  7484       accusamus vel est        82       257   \n",
       "7484        7484  7485           sit nulla qui        91       257   \n",
       "7485        7485  7486        sed quidem vitae        93       257   \n",
       "7486        7486  7487   dolorem eveniet rerum        95       257   \n",
       "7487        7487  7488  dolores nihil voluptas        96       257   \n",
       "\n",
       "     created Timestamp posted date emoji used  Hashtags used count  \n",
       "7483  13-04-2023 08:04    April 14         no                    5  \n",
       "7484  13-04-2023 08:04    April 14         no                    6  \n",
       "7485  13-04-2023 08:04    April 14        yes                    2  \n",
       "7486  13-04-2023 08:04    April 14        yes                    1  \n",
       "7487  13-04-2023 08:04    April 14         no                    3  "
      ]
     },
     "execution_count": 5,
     "metadata": {},
     "output_type": "execute_result"
    }
   ],
   "source": [
    "# Open the file to read the data/ View the data\n",
    "import pandas as pd\n",
    "data = pd.read_csv('comments_cleaned.csv')\n",
    "data.head()\n",
    "data.tail()\n"
   ]
  },
  {
   "cell_type": "code",
   "execution_count": 6,
   "metadata": {},
   "outputs": [
    {
     "name": "stdout",
     "output_type": "stream",
     "text": [
      "<class 'pandas.core.frame.DataFrame'>\n",
      "RangeIndex: 7488 entries, 0 to 7487\n",
      "Data columns (total 9 columns):\n",
      " #   Column               Non-Null Count  Dtype \n",
      "---  ------               --------------  ----- \n",
      " 0   Unnamed: 0           7488 non-null   int64 \n",
      " 1   id                   7488 non-null   int64 \n",
      " 2   comment              7488 non-null   object\n",
      " 3   User  id             7488 non-null   int64 \n",
      " 4   Photo id             7488 non-null   int64 \n",
      " 5   created Timestamp    7488 non-null   object\n",
      " 6   posted date          7488 non-null   object\n",
      " 7   emoji used           7488 non-null   object\n",
      " 8   Hashtags used count  7488 non-null   int64 \n",
      "dtypes: int64(5), object(4)\n",
      "memory usage: 526.6+ KB\n"
     ]
    }
   ],
   "source": [
    "# dataset information\n",
    "data.info()"
   ]
  },
  {
   "cell_type": "code",
   "execution_count": 7,
   "metadata": {},
   "outputs": [
    {
     "data": {
      "text/html": [
       "<div>\n",
       "<style scoped>\n",
       "    .dataframe tbody tr th:only-of-type {\n",
       "        vertical-align: middle;\n",
       "    }\n",
       "\n",
       "    .dataframe tbody tr th {\n",
       "        vertical-align: top;\n",
       "    }\n",
       "\n",
       "    .dataframe thead th {\n",
       "        text-align: right;\n",
       "    }\n",
       "</style>\n",
       "<table border=\"1\" class=\"dataframe\">\n",
       "  <thead>\n",
       "    <tr style=\"text-align: right;\">\n",
       "      <th></th>\n",
       "      <th>Unnamed: 0</th>\n",
       "      <th>id</th>\n",
       "      <th>User  id</th>\n",
       "      <th>Photo id</th>\n",
       "      <th>Hashtags used count</th>\n",
       "    </tr>\n",
       "  </thead>\n",
       "  <tbody>\n",
       "    <tr>\n",
       "      <th>count</th>\n",
       "      <td>7488.000000</td>\n",
       "      <td>7488.000000</td>\n",
       "      <td>7488.000000</td>\n",
       "      <td>7488.000000</td>\n",
       "      <td>7488.000000</td>\n",
       "    </tr>\n",
       "    <tr>\n",
       "      <th>mean</th>\n",
       "      <td>3743.500000</td>\n",
       "      <td>3744.500000</td>\n",
       "      <td>48.949386</td>\n",
       "      <td>129.099225</td>\n",
       "      <td>2.416667</td>\n",
       "    </tr>\n",
       "    <tr>\n",
       "      <th>std</th>\n",
       "      <td>2161.743741</td>\n",
       "      <td>2161.743741</td>\n",
       "      <td>28.354045</td>\n",
       "      <td>73.776439</td>\n",
       "      <td>1.705905</td>\n",
       "    </tr>\n",
       "    <tr>\n",
       "      <th>min</th>\n",
       "      <td>0.000000</td>\n",
       "      <td>1.000000</td>\n",
       "      <td>2.000000</td>\n",
       "      <td>1.000000</td>\n",
       "      <td>0.000000</td>\n",
       "    </tr>\n",
       "    <tr>\n",
       "      <th>25%</th>\n",
       "      <td>1871.750000</td>\n",
       "      <td>1872.750000</td>\n",
       "      <td>24.000000</td>\n",
       "      <td>65.000000</td>\n",
       "      <td>1.000000</td>\n",
       "    </tr>\n",
       "    <tr>\n",
       "      <th>50%</th>\n",
       "      <td>3743.500000</td>\n",
       "      <td>3744.500000</td>\n",
       "      <td>48.000000</td>\n",
       "      <td>130.000000</td>\n",
       "      <td>2.000000</td>\n",
       "    </tr>\n",
       "    <tr>\n",
       "      <th>75%</th>\n",
       "      <td>5615.250000</td>\n",
       "      <td>5616.250000</td>\n",
       "      <td>72.000000</td>\n",
       "      <td>193.000000</td>\n",
       "      <td>3.250000</td>\n",
       "    </tr>\n",
       "    <tr>\n",
       "      <th>max</th>\n",
       "      <td>7487.000000</td>\n",
       "      <td>7488.000000</td>\n",
       "      <td>100.000000</td>\n",
       "      <td>257.000000</td>\n",
       "      <td>6.000000</td>\n",
       "    </tr>\n",
       "  </tbody>\n",
       "</table>\n",
       "</div>"
      ],
      "text/plain": [
       "        Unnamed: 0           id     User  id     Photo id  Hashtags used count\n",
       "count  7488.000000  7488.000000  7488.000000  7488.000000          7488.000000\n",
       "mean   3743.500000  3744.500000    48.949386   129.099225             2.416667\n",
       "std    2161.743741  2161.743741    28.354045    73.776439             1.705905\n",
       "min       0.000000     1.000000     2.000000     1.000000             0.000000\n",
       "25%    1871.750000  1872.750000    24.000000    65.000000             1.000000\n",
       "50%    3743.500000  3744.500000    48.000000   130.000000             2.000000\n",
       "75%    5615.250000  5616.250000    72.000000   193.000000             3.250000\n",
       "max    7487.000000  7488.000000   100.000000   257.000000             6.000000"
      ]
     },
     "execution_count": 7,
     "metadata": {},
     "output_type": "execute_result"
    }
   ],
   "source": [
    "# check the null values of the data\n",
    "data.describe()"
   ]
  },
  {
   "cell_type": "code",
   "execution_count": 8,
   "metadata": {},
   "outputs": [
    {
     "data": {
      "text/plain": [
       "0"
      ]
     },
     "execution_count": 8,
     "metadata": {},
     "output_type": "execute_result"
    }
   ],
   "source": [
    "data.duplicated().sum()"
   ]
  },
  {
   "cell_type": "code",
   "execution_count": 10,
   "metadata": {},
   "outputs": [
    {
     "data": {
      "text/plain": [
       "<AxesSubplot:xlabel='emoji used', ylabel='Hashtags used count'>"
      ]
     },
     "execution_count": 10,
     "metadata": {},
     "output_type": "execute_result"
    },
    {
     "data": {
      "image/png": "[encoded data removed]",
      "text/plain": [
       "<Figure size 640x480 with 1 Axes>"
      ]
     },
     "metadata": {},
     "output_type": "display_data"
    }
   ],
   "source": [
    "# using seaborn to describe the data\n",
    "\n",
    "import seaborn as sns\n",
    "sns.barplot(data, x='emoji used', y ='Hashtags used count')"
   ]
  }
 ],
 "metadata": {
  "kernelspec": {
   "display_name": "Python 3",
   "language": "python",
   "name": "python3"
  },
  "language_info": {
   "codemirror_mode": {
    "name": "ipython",
    "version": 3
   },
   "file_extension": ".py",
   "mimetype": "text/x-python",
   "name": "python",
   "nbconvert_exporter": "python",
   "pygments_lexer": "ipython3",
   "version": "3.10.12"
  },
  "orig_nbformat": 4
 },
 "nbformat": 4,
 "nbformat_minor": 2
}
