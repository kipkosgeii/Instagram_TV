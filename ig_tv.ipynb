{
 "cells": [
  {
   "cell_type": "code",
   "execution_count": 16,
   "metadata": {},
   "outputs": [
    {
     "name": "stderr",
     "output_type": "stream",
     "text": [
      "/usr/lib/python3/dist-packages/scipy/__init__.py:146: UserWarning: A NumPy version >=1.17.3 and <1.25.0 is required for this version of SciPy (detected version 1.26.0\n",
      "  warnings.warn(f\"A NumPy version >={np_minversion} and <{np_maxversion}\"\n"
     ]
    }
   ],
   "source": [
    "import seaborn as sns"
   ]
  },
  {
   "cell_type": "code",
   "execution_count": 13,
   "metadata": {},
   "outputs": [],
   "source": [
    "import pandas as pd\n",
    "import numpy as np"
   ]
  },
  {
   "cell_type": "code",
   "execution_count": 3,
   "metadata": {},
   "outputs": [
    {
     "data": {
      "text/html": [
       "<div>\n",
       "<style scoped>\n",
       "    .dataframe tbody tr th:only-of-type {\n",
       "        vertical-align: middle;\n",
       "    }\n",
       "\n",
       "    .dataframe tbody tr th {\n",
       "        vertical-align: top;\n",
       "    }\n",
       "\n",
       "    .dataframe thead th {\n",
       "        text-align: right;\n",
       "    }\n",
       "</style>\n",
       "<table border=\"1\" class=\"dataframe\">\n",
       "  <thead>\n",
       "    <tr style=\"text-align: right;\">\n",
       "      <th></th>\n",
       "      <th>Unnamed: 0</th>\n",
       "      <th>id</th>\n",
       "      <th>comment</th>\n",
       "      <th>User  id</th>\n",
       "      <th>Photo id</th>\n",
       "      <th>created Timestamp</th>\n",
       "      <th>posted date</th>\n",
       "      <th>emoji used</th>\n",
       "      <th>Hashtags used count</th>\n",
       "    </tr>\n",
       "  </thead>\n",
       "  <tbody>\n",
       "    <tr>\n",
       "      <th>0</th>\n",
       "      <td>0</td>\n",
       "      <td>1</td>\n",
       "      <td>unde at dolorem</td>\n",
       "      <td>2</td>\n",
       "      <td>1</td>\n",
       "      <td>13-04-2023 08:04</td>\n",
       "      <td>April 14</td>\n",
       "      <td>yes</td>\n",
       "      <td>1</td>\n",
       "    </tr>\n",
       "    <tr>\n",
       "      <th>1</th>\n",
       "      <td>1</td>\n",
       "      <td>2</td>\n",
       "      <td>quae ea ducimus</td>\n",
       "      <td>3</td>\n",
       "      <td>1</td>\n",
       "      <td>13-04-2023 08:04</td>\n",
       "      <td>April 14</td>\n",
       "      <td>no</td>\n",
       "      <td>2</td>\n",
       "    </tr>\n",
       "    <tr>\n",
       "      <th>2</th>\n",
       "      <td>2</td>\n",
       "      <td>3</td>\n",
       "      <td>alias a voluptatum</td>\n",
       "      <td>5</td>\n",
       "      <td>1</td>\n",
       "      <td>13-04-2023 08:04</td>\n",
       "      <td>April 14</td>\n",
       "      <td>no</td>\n",
       "      <td>4</td>\n",
       "    </tr>\n",
       "    <tr>\n",
       "      <th>3</th>\n",
       "      <td>3</td>\n",
       "      <td>4</td>\n",
       "      <td>facere suscipit sunt</td>\n",
       "      <td>14</td>\n",
       "      <td>1</td>\n",
       "      <td>13-04-2023 08:04</td>\n",
       "      <td>April 14</td>\n",
       "      <td>yes</td>\n",
       "      <td>2</td>\n",
       "    </tr>\n",
       "    <tr>\n",
       "      <th>4</th>\n",
       "      <td>4</td>\n",
       "      <td>5</td>\n",
       "      <td>totam eligendi quaerat</td>\n",
       "      <td>17</td>\n",
       "      <td>1</td>\n",
       "      <td>13-04-2023 08:04</td>\n",
       "      <td>April 14</td>\n",
       "      <td>yes</td>\n",
       "      <td>1</td>\n",
       "    </tr>\n",
       "  </tbody>\n",
       "</table>\n",
       "</div>"
      ],
      "text/plain": [
       "   Unnamed: 0  id                 comment  User  id  Photo id  \\\n",
       "0           0   1         unde at dolorem         2         1   \n",
       "1           1   2         quae ea ducimus         3         1   \n",
       "2           2   3      alias a voluptatum         5         1   \n",
       "3           3   4    facere suscipit sunt        14         1   \n",
       "4           4   5  totam eligendi quaerat        17         1   \n",
       "\n",
       "  created Timestamp posted date emoji used  Hashtags used count  \n",
       "0  13-04-2023 08:04    April 14        yes                    1  \n",
       "1  13-04-2023 08:04    April 14         no                    2  \n",
       "2  13-04-2023 08:04    April 14         no                    4  \n",
       "3  13-04-2023 08:04    April 14        yes                    2  \n",
       "4  13-04-2023 08:04    April 14        yes                    1  "
      ]
     },
     "execution_count": 3,
     "metadata": {},
     "output_type": "execute_result"
    }
   ],
   "source": [
    "data = pd.read_csv('comments_cleaned.csv')\n",
    "data.head()"
   ]
  },
  {
   "cell_type": "code",
   "execution_count": 4,
   "metadata": {},
   "outputs": [
    {
     "name": "stdout",
     "output_type": "stream",
     "text": [
      "<class 'pandas.core.frame.DataFrame'>\n",
      "RangeIndex: 7488 entries, 0 to 7487\n",
      "Data columns (total 9 columns):\n",
      " #   Column               Non-Null Count  Dtype \n",
      "---  ------               --------------  ----- \n",
      " 0   Unnamed: 0           7488 non-null   int64 \n",
      " 1   id                   7488 non-null   int64 \n",
      " 2   comment              7488 non-null   object\n",
      " 3   User  id             7488 non-null   int64 \n",
      " 4   Photo id             7488 non-null   int64 \n",
      " 5   created Timestamp    7488 non-null   object\n",
      " 6   posted date          7488 non-null   object\n",
      " 7   emoji used           7488 non-null   object\n",
      " 8   Hashtags used count  7488 non-null   int64 \n",
      "dtypes: int64(5), object(4)\n",
      "memory usage: 526.6+ KB\n"
     ]
    }
   ],
   "source": [
    "data.info()"
   ]
  },
  {
   "cell_type": "code",
   "execution_count": 17,
   "metadata": {},
   "outputs": [
    {
     "data": {
      "text/html": [
       "<div>\n",
       "<style scoped>\n",
       "    .dataframe tbody tr th:only-of-type {\n",
       "        vertical-align: middle;\n",
       "    }\n",
       "\n",
       "    .dataframe tbody tr th {\n",
       "        vertical-align: top;\n",
       "    }\n",
       "\n",
       "    .dataframe thead th {\n",
       "        text-align: right;\n",
       "    }\n",
       "</style>\n",
       "<table border=\"1\" class=\"dataframe\">\n",
       "  <thead>\n",
       "    <tr style=\"text-align: right;\">\n",
       "      <th></th>\n",
       "      <th>Unnamed: 0</th>\n",
       "      <th>id</th>\n",
       "      <th>User  id</th>\n",
       "      <th>Photo id</th>\n",
       "      <th>Hashtags used count</th>\n",
       "    </tr>\n",
       "  </thead>\n",
       "  <tbody>\n",
       "    <tr>\n",
       "      <th>count</th>\n",
       "      <td>7488.000000</td>\n",
       "      <td>7488.000000</td>\n",
       "      <td>7488.000000</td>\n",
       "      <td>7488.000000</td>\n",
       "      <td>7488.000000</td>\n",
       "    </tr>\n",
       "    <tr>\n",
       "      <th>mean</th>\n",
       "      <td>3743.500000</td>\n",
       "      <td>3744.500000</td>\n",
       "      <td>48.949386</td>\n",
       "      <td>129.099225</td>\n",
       "      <td>2.416667</td>\n",
       "    </tr>\n",
       "    <tr>\n",
       "      <th>std</th>\n",
       "      <td>2161.743741</td>\n",
       "      <td>2161.743741</td>\n",
       "      <td>28.354045</td>\n",
       "      <td>73.776439</td>\n",
       "      <td>1.705905</td>\n",
       "    </tr>\n",
       "    <tr>\n",
       "      <th>min</th>\n",
       "      <td>0.000000</td>\n",
       "      <td>1.000000</td>\n",
       "      <td>2.000000</td>\n",
       "      <td>1.000000</td>\n",
       "      <td>0.000000</td>\n",
       "    </tr>\n",
       "    <tr>\n",
       "      <th>25%</th>\n",
       "      <td>1871.750000</td>\n",
       "      <td>1872.750000</td>\n",
       "      <td>24.000000</td>\n",
       "      <td>65.000000</td>\n",
       "      <td>1.000000</td>\n",
       "    </tr>\n",
       "    <tr>\n",
       "      <th>50%</th>\n",
       "      <td>3743.500000</td>\n",
       "      <td>3744.500000</td>\n",
       "      <td>48.000000</td>\n",
       "      <td>130.000000</td>\n",
       "      <td>2.000000</td>\n",
       "    </tr>\n",
       "    <tr>\n",
       "      <th>75%</th>\n",
       "      <td>5615.250000</td>\n",
       "      <td>5616.250000</td>\n",
       "      <td>72.000000</td>\n",
       "      <td>193.000000</td>\n",
       "      <td>3.250000</td>\n",
       "    </tr>\n",
       "    <tr>\n",
       "      <th>max</th>\n",
       "      <td>7487.000000</td>\n",
       "      <td>7488.000000</td>\n",
       "      <td>100.000000</td>\n",
       "      <td>257.000000</td>\n",
       "      <td>6.000000</td>\n",
       "    </tr>\n",
       "  </tbody>\n",
       "</table>\n",
       "</div>"
      ],
      "text/plain": [
       "        Unnamed: 0           id     User  id     Photo id  Hashtags used count\n",
       "count  7488.000000  7488.000000  7488.000000  7488.000000          7488.000000\n",
       "mean   3743.500000  3744.500000    48.949386   129.099225             2.416667\n",
       "std    2161.743741  2161.743741    28.354045    73.776439             1.705905\n",
       "min       0.000000     1.000000     2.000000     1.000000             0.000000\n",
       "25%    1871.750000  1872.750000    24.000000    65.000000             1.000000\n",
       "50%    3743.500000  3744.500000    48.000000   130.000000             2.000000\n",
       "75%    5615.250000  5616.250000    72.000000   193.000000             3.250000\n",
       "max    7487.000000  7488.000000   100.000000   257.000000             6.000000"
      ]
     },
     "execution_count": 17,
     "metadata": {},
     "output_type": "execute_result"
    }
   ],
   "source": [
    "data.describe()"
   ]
  },
  {
   "cell_type": "code",
   "execution_count": 19,
   "metadata": {},
   "outputs": [
    {
     "data": {
      "text/plain": [
       "0"
      ]
     },
     "execution_count": 19,
     "metadata": {},
     "output_type": "execute_result"
    }
   ],
   "source": [
    "data.duplicated().sum()"
   ]
  },
  {
   "cell_type": "code",
   "execution_count": 25,
   "metadata": {},
   "outputs": [
    {
     "data": {
      "text/plain": [
       "array([   1,    2,    3, ..., 7486, 7487, 7488])"
      ]
     },
     "execution_count": 25,
     "metadata": {},
     "output_type": "execute_result"
    }
   ],
   "source": [
    "data['id'].unique()"
   ]
  },
  {
   "cell_type": "code",
   "execution_count": 24,
   "metadata": {},
   "outputs": [
    {
     "ename": "AttributeError",
     "evalue": "'AxesSubplot' object has no attribute 'unique'",
     "output_type": "error",
     "traceback": [
      "\u001b[0;31m---------------------------------------------------------------------------\u001b[0m",
      "\u001b[0;31mAttributeError\u001b[0m                            Traceback (most recent call last)",
      "Cell \u001b[0;32mIn[24], line 1\u001b[0m\n\u001b[0;32m----> 1\u001b[0m sns\u001b[39m.\u001b[39;49mcountplot(data[\u001b[39m'\u001b[39;49m\u001b[39mid\u001b[39;49m\u001b[39m'\u001b[39;49m])\u001b[39m.\u001b[39;49munique()\n",
      "\u001b[0;31mAttributeError\u001b[0m: 'AxesSubplot' object has no attribute 'unique'"
     ]
    },
    {
     "data": {
      "image/png": "[encoded data removed]",
      "text/plain": [
       "<Figure size 640x480 with 1 Axes>"
      ]
     },
     "metadata": {},
     "output_type": "display_data"
    }
   ],
   "source": [
    "sns.countplot(data['id']).unique()"
   ]
  }
 ],
 "metadata": {
  "kernelspec": {
   "display_name": "Python 3",
   "language": "python",
   "name": "python3"
  },
  "language_info": {
   "codemirror_mode": {
    "name": "ipython",
    "version": 3
   },
   "file_extension": ".py",
   "mimetype": "text/x-python",
   "name": "python",
   "nbconvert_exporter": "python",
   "pygments_lexer": "ipython3",
   "version": "3.10.12"
  },
  "orig_nbformat": 4
 },
 "nbformat": 4,
 "nbformat_minor": 2
}
